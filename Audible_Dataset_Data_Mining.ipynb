{
 "cells": [
  {
   "cell_type": "code",
   "execution_count": 2,
   "id": "eaf13765",
   "metadata": {},
   "outputs": [],
   "source": [
    "import pandas as pd\n",
    "import numpy as np\n",
    "import matplotlib.pyplot as plt"
   ]
  },
  {
   "cell_type": "code",
   "execution_count": 3,
   "id": "97ebb113",
   "metadata": {},
   "outputs": [],
   "source": [
    "audible_data = pd.read_csv(\"C:/Users/HP/Downloads/audible_amazon/audible_uncleaned.csv\")"
   ]
  },
  {
   "cell_type": "code",
   "execution_count": 4,
   "id": "5e323c90",
   "metadata": {
    "scrolled": true
   },
   "outputs": [
    {
     "data": {
      "text/html": [
       "<div>\n",
       "<style scoped>\n",
       "    .dataframe tbody tr th:only-of-type {\n",
       "        vertical-align: middle;\n",
       "    }\n",
       "\n",
       "    .dataframe tbody tr th {\n",
       "        vertical-align: top;\n",
       "    }\n",
       "\n",
       "    .dataframe thead th {\n",
       "        text-align: right;\n",
       "    }\n",
       "</style>\n",
       "<table border=\"1\" class=\"dataframe\">\n",
       "  <thead>\n",
       "    <tr style=\"text-align: right;\">\n",
       "      <th></th>\n",
       "      <th>name</th>\n",
       "      <th>author</th>\n",
       "      <th>narrator</th>\n",
       "      <th>time</th>\n",
       "      <th>releasedate</th>\n",
       "      <th>language</th>\n",
       "      <th>stars</th>\n",
       "      <th>price</th>\n",
       "    </tr>\n",
       "  </thead>\n",
       "  <tbody>\n",
       "    <tr>\n",
       "      <th>0</th>\n",
       "      <td>Geronimo Stilton #11 &amp; #12</td>\n",
       "      <td>Writtenby:GeronimoStilton</td>\n",
       "      <td>Narratedby:BillLobely</td>\n",
       "      <td>2 hrs and 20 mins</td>\n",
       "      <td>04-08-08</td>\n",
       "      <td>English</td>\n",
       "      <td>5 out of 5 stars34 ratings</td>\n",
       "      <td>468.00</td>\n",
       "    </tr>\n",
       "    <tr>\n",
       "      <th>1</th>\n",
       "      <td>The Burning Maze</td>\n",
       "      <td>Writtenby:RickRiordan</td>\n",
       "      <td>Narratedby:RobbieDaymond</td>\n",
       "      <td>13 hrs and 8 mins</td>\n",
       "      <td>01-05-18</td>\n",
       "      <td>English</td>\n",
       "      <td>4.5 out of 5 stars41 ratings</td>\n",
       "      <td>820.00</td>\n",
       "    </tr>\n",
       "    <tr>\n",
       "      <th>2</th>\n",
       "      <td>The Deep End</td>\n",
       "      <td>Writtenby:JeffKinney</td>\n",
       "      <td>Narratedby:DanRussell</td>\n",
       "      <td>2 hrs and 3 mins</td>\n",
       "      <td>06-11-20</td>\n",
       "      <td>English</td>\n",
       "      <td>4.5 out of 5 stars38 ratings</td>\n",
       "      <td>410.00</td>\n",
       "    </tr>\n",
       "    <tr>\n",
       "      <th>3</th>\n",
       "      <td>Daughter of the Deep</td>\n",
       "      <td>Writtenby:RickRiordan</td>\n",
       "      <td>Narratedby:SoneelaNankani</td>\n",
       "      <td>11 hrs and 16 mins</td>\n",
       "      <td>05-10-21</td>\n",
       "      <td>English</td>\n",
       "      <td>4.5 out of 5 stars12 ratings</td>\n",
       "      <td>615.00</td>\n",
       "    </tr>\n",
       "    <tr>\n",
       "      <th>4</th>\n",
       "      <td>The Lightning Thief: Percy Jackson, Book 1</td>\n",
       "      <td>Writtenby:RickRiordan</td>\n",
       "      <td>Narratedby:JesseBernstein</td>\n",
       "      <td>10 hrs</td>\n",
       "      <td>13-01-10</td>\n",
       "      <td>English</td>\n",
       "      <td>4.5 out of 5 stars181 ratings</td>\n",
       "      <td>820.00</td>\n",
       "    </tr>\n",
       "    <tr>\n",
       "      <th>5</th>\n",
       "      <td>The Hunger Games: Special Edition</td>\n",
       "      <td>Writtenby:SuzanneCollins</td>\n",
       "      <td>Narratedby:TatianaMaslany</td>\n",
       "      <td>10 hrs and 35 mins</td>\n",
       "      <td>30-10-18</td>\n",
       "      <td>English</td>\n",
       "      <td>5 out of 5 stars72 ratings</td>\n",
       "      <td>656.00</td>\n",
       "    </tr>\n",
       "    <tr>\n",
       "      <th>6</th>\n",
       "      <td>Quest for the Diamond Sword</td>\n",
       "      <td>Writtenby:WinterMorgan</td>\n",
       "      <td>Narratedby:LukeDaniels</td>\n",
       "      <td>2 hrs and 23 mins</td>\n",
       "      <td>25-11-14</td>\n",
       "      <td>English</td>\n",
       "      <td>5 out of 5 stars11 ratings</td>\n",
       "      <td>233.00</td>\n",
       "    </tr>\n",
       "    <tr>\n",
       "      <th>7</th>\n",
       "      <td>The Dark Prophecy</td>\n",
       "      <td>Writtenby:RickRiordan</td>\n",
       "      <td>Narratedby:RobbieDaymond</td>\n",
       "      <td>12 hrs and 32 mins</td>\n",
       "      <td>02-05-17</td>\n",
       "      <td>English</td>\n",
       "      <td>5 out of 5 stars50 ratings</td>\n",
       "      <td>820.00</td>\n",
       "    </tr>\n",
       "    <tr>\n",
       "      <th>8</th>\n",
       "      <td>Merlin Mission Collection</td>\n",
       "      <td>Writtenby:MaryPopeOsborne</td>\n",
       "      <td>Narratedby:MaryPopeOsborne</td>\n",
       "      <td>10 hrs and 56 mins</td>\n",
       "      <td>02-05-17</td>\n",
       "      <td>English</td>\n",
       "      <td>5 out of 5 stars5 ratings</td>\n",
       "      <td>1,256.00</td>\n",
       "    </tr>\n",
       "    <tr>\n",
       "      <th>9</th>\n",
       "      <td>The Tyrant’s Tomb</td>\n",
       "      <td>Writtenby:RickRiordan</td>\n",
       "      <td>Narratedby:RobbieDaymond</td>\n",
       "      <td>13 hrs and 22 mins</td>\n",
       "      <td>24-09-19</td>\n",
       "      <td>English</td>\n",
       "      <td>5 out of 5 stars58 ratings</td>\n",
       "      <td>820.00</td>\n",
       "    </tr>\n",
       "  </tbody>\n",
       "</table>\n",
       "</div>"
      ],
      "text/plain": [
       "                                         name                     author   \n",
       "0                  Geronimo Stilton #11 & #12  Writtenby:GeronimoStilton  \\\n",
       "1                            The Burning Maze      Writtenby:RickRiordan   \n",
       "2                                The Deep End       Writtenby:JeffKinney   \n",
       "3                        Daughter of the Deep      Writtenby:RickRiordan   \n",
       "4  The Lightning Thief: Percy Jackson, Book 1      Writtenby:RickRiordan   \n",
       "5           The Hunger Games: Special Edition   Writtenby:SuzanneCollins   \n",
       "6                 Quest for the Diamond Sword     Writtenby:WinterMorgan   \n",
       "7                           The Dark Prophecy      Writtenby:RickRiordan   \n",
       "8                   Merlin Mission Collection  Writtenby:MaryPopeOsborne   \n",
       "9                           The Tyrant’s Tomb      Writtenby:RickRiordan   \n",
       "\n",
       "                     narrator                time releasedate language   \n",
       "0       Narratedby:BillLobely   2 hrs and 20 mins    04-08-08  English  \\\n",
       "1    Narratedby:RobbieDaymond   13 hrs and 8 mins    01-05-18  English   \n",
       "2       Narratedby:DanRussell    2 hrs and 3 mins    06-11-20  English   \n",
       "3   Narratedby:SoneelaNankani  11 hrs and 16 mins    05-10-21  English   \n",
       "4   Narratedby:JesseBernstein              10 hrs    13-01-10  English   \n",
       "5   Narratedby:TatianaMaslany  10 hrs and 35 mins    30-10-18  English   \n",
       "6      Narratedby:LukeDaniels   2 hrs and 23 mins    25-11-14  English   \n",
       "7    Narratedby:RobbieDaymond  12 hrs and 32 mins    02-05-17  English   \n",
       "8  Narratedby:MaryPopeOsborne  10 hrs and 56 mins    02-05-17  English   \n",
       "9    Narratedby:RobbieDaymond  13 hrs and 22 mins    24-09-19  English   \n",
       "\n",
       "                           stars     price  \n",
       "0     5 out of 5 stars34 ratings    468.00  \n",
       "1   4.5 out of 5 stars41 ratings    820.00  \n",
       "2   4.5 out of 5 stars38 ratings    410.00  \n",
       "3   4.5 out of 5 stars12 ratings    615.00  \n",
       "4  4.5 out of 5 stars181 ratings    820.00  \n",
       "5     5 out of 5 stars72 ratings    656.00  \n",
       "6     5 out of 5 stars11 ratings    233.00  \n",
       "7     5 out of 5 stars50 ratings    820.00  \n",
       "8      5 out of 5 stars5 ratings  1,256.00  \n",
       "9     5 out of 5 stars58 ratings    820.00  "
      ]
     },
     "execution_count": 4,
     "metadata": {},
     "output_type": "execute_result"
    }
   ],
   "source": [
    "audible_data.head(10)"
   ]
  },
  {
   "cell_type": "code",
   "execution_count": 6,
   "id": "0e2ff4d2",
   "metadata": {},
   "outputs": [
    {
     "data": {
      "text/plain": [
       "name           object\n",
       "author         object\n",
       "narrator       object\n",
       "time           object\n",
       "releasedate    object\n",
       "language       object\n",
       "stars          object\n",
       "price          object\n",
       "dtype: object"
      ]
     },
     "execution_count": 6,
     "metadata": {},
     "output_type": "execute_result"
    }
   ],
   "source": [
    "data_types = audible_data.dtypes\n",
    "data_types"
   ]
  },
  {
   "cell_type": "markdown",
   "id": "0a3dfcdc",
   "metadata": {},
   "source": [
    "# Constations\n",
    "* author- \"Writtenby:\" can be removed; multiple author names can be placed in different columns.\n",
    "\n",
    "* narrator- \"Narratedby:\" can be removed.\n",
    "\n",
    "* time- is of type str; can be converted to numeric or datetime type.\n",
    "\n",
    "* releasedate- is of type str; should be of type date.\n",
    "\n",
    "* language- all values should be in uniform case; first letter capital, rest smallcase.\n",
    "\n",
    "* stars- can be split into i) number of stars and ii) total number of ratings columns.\n",
    "\n",
    "* price- is of type str; should be float."
   ]
  },
  {
   "cell_type": "code",
   "execution_count": 7,
   "id": "75d2c303",
   "metadata": {},
   "outputs": [
    {
     "name": "stdout",
     "output_type": "stream",
     "text": [
      "<class 'pandas.core.frame.DataFrame'>\n",
      "RangeIndex: 87489 entries, 0 to 87488\n",
      "Data columns (total 8 columns):\n",
      " #   Column       Non-Null Count  Dtype \n",
      "---  ------       --------------  ----- \n",
      " 0   name         87489 non-null  object\n",
      " 1   author       87489 non-null  object\n",
      " 2   narrator     87489 non-null  object\n",
      " 3   time         87489 non-null  object\n",
      " 4   releasedate  87489 non-null  object\n",
      " 5   language     87489 non-null  object\n",
      " 6   stars        87489 non-null  object\n",
      " 7   price        87489 non-null  object\n",
      "dtypes: object(8)\n",
      "memory usage: 5.3+ MB\n"
     ]
    }
   ],
   "source": [
    "#information about the data\n",
    "audible_data.info()"
   ]
  },
  {
   "cell_type": "code",
   "execution_count": 8,
   "id": "19644f23",
   "metadata": {},
   "outputs": [
    {
     "data": {
      "text/html": [
       "<div>\n",
       "<style scoped>\n",
       "    .dataframe tbody tr th:only-of-type {\n",
       "        vertical-align: middle;\n",
       "    }\n",
       "\n",
       "    .dataframe tbody tr th {\n",
       "        vertical-align: top;\n",
       "    }\n",
       "\n",
       "    .dataframe thead th {\n",
       "        text-align: right;\n",
       "    }\n",
       "</style>\n",
       "<table border=\"1\" class=\"dataframe\">\n",
       "  <thead>\n",
       "    <tr style=\"text-align: right;\">\n",
       "      <th></th>\n",
       "      <th>name</th>\n",
       "      <th>author</th>\n",
       "      <th>narrator</th>\n",
       "      <th>time</th>\n",
       "      <th>releasedate</th>\n",
       "      <th>language</th>\n",
       "      <th>stars</th>\n",
       "      <th>price</th>\n",
       "    </tr>\n",
       "  </thead>\n",
       "  <tbody>\n",
       "    <tr>\n",
       "      <th>count</th>\n",
       "      <td>87489</td>\n",
       "      <td>87489</td>\n",
       "      <td>87489</td>\n",
       "      <td>87489</td>\n",
       "      <td>87489</td>\n",
       "      <td>87489</td>\n",
       "      <td>87489</td>\n",
       "      <td>87489</td>\n",
       "    </tr>\n",
       "    <tr>\n",
       "      <th>unique</th>\n",
       "      <td>82767</td>\n",
       "      <td>48374</td>\n",
       "      <td>29717</td>\n",
       "      <td>2284</td>\n",
       "      <td>5058</td>\n",
       "      <td>36</td>\n",
       "      <td>665</td>\n",
       "      <td>1011</td>\n",
       "    </tr>\n",
       "    <tr>\n",
       "      <th>top</th>\n",
       "      <td>The Art of War</td>\n",
       "      <td>Writtenby:矢島雅弘,石橋遊</td>\n",
       "      <td>Narratedby:anonymous</td>\n",
       "      <td>2 mins</td>\n",
       "      <td>16-05-18</td>\n",
       "      <td>English</td>\n",
       "      <td>Not rated yet</td>\n",
       "      <td>586.00</td>\n",
       "    </tr>\n",
       "    <tr>\n",
       "      <th>freq</th>\n",
       "      <td>20</td>\n",
       "      <td>874</td>\n",
       "      <td>1034</td>\n",
       "      <td>372</td>\n",
       "      <td>773</td>\n",
       "      <td>61884</td>\n",
       "      <td>72417</td>\n",
       "      <td>5533</td>\n",
       "    </tr>\n",
       "  </tbody>\n",
       "</table>\n",
       "</div>"
      ],
      "text/plain": [
       "                  name              author              narrator    time   \n",
       "count            87489               87489                 87489   87489  \\\n",
       "unique           82767               48374                 29717    2284   \n",
       "top     The Art of War  Writtenby:矢島雅弘,石橋遊  Narratedby:anonymous  2 mins   \n",
       "freq                20                 874                  1034     372   \n",
       "\n",
       "       releasedate language          stars   price  \n",
       "count        87489    87489          87489   87489  \n",
       "unique        5058       36            665    1011  \n",
       "top       16-05-18  English  Not rated yet  586.00  \n",
       "freq           773    61884          72417    5533  "
      ]
     },
     "execution_count": 8,
     "metadata": {},
     "output_type": "execute_result"
    }
   ],
   "source": [
    "#stats\n",
    "audible_data.describe()"
   ]
  },
  {
   "cell_type": "markdown",
   "id": "985666bb",
   "metadata": {},
   "source": [
    "## Checking total count of each category"
   ]
  },
  {
   "cell_type": "code",
   "execution_count": 9,
   "id": "0f186bbc",
   "metadata": {},
   "outputs": [
    {
     "data": {
      "text/plain": [
       "name\n",
       "The Art of War                 20\n",
       "Sterling Biographies           19\n",
       "The Odyssey                    16\n",
       "Sterling Point Books           16\n",
       "Hamlet                         15\n",
       "The Prophet                    14\n",
       "Pride and Prejudice            14\n",
       "A Christmas Carol              14\n",
       "The Iliad                      13\n",
       "As a Man Thinketh              13\n",
       "The Science of Getting Rich    13\n",
       "The Picture of Dorian Gray     12\n",
       "Abraham Lincoln                12\n",
       "Meditations                    11\n",
       "The Richest Man in Babylon     11\n",
       "The Raven                      11\n",
       "The Prince                     11\n",
       "Unstoppable                    10\n",
       "Name: count, dtype: int64"
      ]
     },
     "execution_count": 9,
     "metadata": {},
     "output_type": "execute_result"
    }
   ],
   "source": [
    "#checking number of occurances of books\n",
    "book_counts = audible_data['name'].value_counts()\n",
    "#list out books which have 10 or more occurances\n",
    "book_counts[book_counts >= 10]"
   ]
  },
  {
   "cell_type": "code",
   "execution_count": 10,
   "id": "5fb4af46",
   "metadata": {},
   "outputs": [
    {
     "data": {
      "text/plain": [
       "author\n",
       "Writtenby:矢島雅弘,石橋遊                         874\n",
       "Writtenby:SmartReading                     405\n",
       "Writtenby:中西貴之,BJ                          311\n",
       "Writtenby:div.                             274\n",
       "Writtenby:OnlineStudioProductions          212\n",
       "Writtenby:WilliamShakespeare               201\n",
       "Writtenby:BillBrown                        198\n",
       "Writtenby:J.M.Gardner                      174\n",
       "Writtenby:InnovativeLanguageLearning       167\n",
       "Writtenby:GertrudeChandlerWarner           160\n",
       "Writtenby:iMinds                           135\n",
       "Writtenby:ThomasRike                       131\n",
       "Writtenby:N.N.                             124\n",
       "Writtenby:志麻絹依                             123\n",
       "Writtenby:InnovativeLanguageLearningLLC    115\n",
       "Writtenby:HansChristianAndersen            112\n",
       "Writtenby:OneMediaiPLTD                    110\n",
       "Writtenby:DickSutphen                      109\n",
       "Writtenby:高橋御山人                            100\n",
       "Name: count, dtype: int64"
      ]
     },
     "execution_count": 10,
     "metadata": {},
     "output_type": "execute_result"
    }
   ],
   "source": [
    "#checking number of occurances of author\n",
    "author_counts = audible_data['author'].value_counts()\n",
    "#list out author which have 100 or more occurances\n",
    "author_counts[author_counts >= 100]"
   ]
  },
  {
   "cell_type": "markdown",
   "id": "2efd958d",
   "metadata": {},
   "source": [
    "## Checking number of duplicate rows"
   ]
  },
  {
   "cell_type": "code",
   "execution_count": 11,
   "id": "1002a353",
   "metadata": {},
   "outputs": [
    {
     "data": {
      "text/plain": [
       "0"
      ]
     },
     "execution_count": 11,
     "metadata": {},
     "output_type": "execute_result"
    }
   ],
   "source": [
    "audible_data.duplicated().sum()"
   ]
  },
  {
   "cell_type": "markdown",
   "id": "791d5b71",
   "metadata": {},
   "source": [
    "## Checking for missing values"
   ]
  },
  {
   "cell_type": "code",
   "execution_count": 12,
   "id": "d589214b",
   "metadata": {},
   "outputs": [
    {
     "data": {
      "text/plain": [
       "name           0\n",
       "author         0\n",
       "narrator       0\n",
       "time           0\n",
       "releasedate    0\n",
       "language       0\n",
       "stars          0\n",
       "price          0\n",
       "dtype: int64"
      ]
     },
     "execution_count": 12,
     "metadata": {},
     "output_type": "execute_result"
    }
   ],
   "source": [
    "audible_data.isnull().sum()"
   ]
  },
  {
   "cell_type": "code",
   "execution_count": 13,
   "id": "63eb7b11",
   "metadata": {},
   "outputs": [
    {
     "data": {
      "text/plain": [
       "False"
      ]
     },
     "execution_count": 13,
     "metadata": {},
     "output_type": "execute_result"
    }
   ],
   "source": [
    "is_empty = audible_data.empty\n",
    "is_empty"
   ]
  },
  {
   "cell_type": "markdown",
   "id": "b39047fb",
   "metadata": {},
   "source": [
    "## Cleaning author column"
   ]
  },
  {
   "cell_type": "code",
   "execution_count": 14,
   "id": "db57bd8e",
   "metadata": {},
   "outputs": [
    {
     "data": {
      "text/plain": [
       "26223        GeoffreyGray\n",
       "69895    ConcettaBertoldi\n",
       "1988        LisaJ.Amstutz\n",
       "51291         ShusakuEndo\n",
       "43633            AnnMcMan\n",
       "Name: author, dtype: object"
      ]
     },
     "execution_count": 14,
     "metadata": {},
     "output_type": "execute_result"
    }
   ],
   "source": [
    "#removing \"Writtenby:\"\n",
    "\n",
    "audible_data['author'] = audible_data['author'].str.replace(pat = \"Writtenby:\", repl = \"\")\n",
    "\n",
    "#after removing \"Written By\", author column looks like:\n",
    "\n",
    "audible_data.author.sample(5)"
   ]
  },
  {
   "cell_type": "code",
   "execution_count": 15,
   "id": "33c19686",
   "metadata": {},
   "outputs": [
    {
     "data": {
      "text/plain": [
       "41582               R.B.Lewis\n",
       "71186        Lisa Renee Jones\n",
       "83232            Clare Atkins\n",
       "54793             Lulu Taylor\n",
       "36214    Seth J.Gillihan Ph D\n",
       "Name: author, dtype: object"
      ]
     },
     "execution_count": 15,
     "metadata": {},
     "output_type": "execute_result"
    }
   ],
   "source": [
    "#Adding space between the first, middle and last names of Authors.\n",
    "\n",
    "audible_data['author'] = audible_data['author'].str.replace(pat = r\"(\\w)([A-Z])\", repl = r\"\\1 \\2\", regex = True)\n",
    "\n",
    "#preview\n",
    "\n",
    "audible_data.author.sample(5)"
   ]
  },
  {
   "cell_type": "code",
   "execution_count": 16,
   "id": "9c9863cf",
   "metadata": {},
   "outputs": [],
   "source": [
    "audible_data2 = pd.concat( [audible_data['name'], \n",
    "                            #splits author into author1, author2 and author3.\n",
    "                            audible_data['author'].str.split(',', expand = True).add_prefix('author'),\n",
    "                            audible_data.loc[:,['narrator', 'time', 'releasedate', 'language', 'stars', 'price']]], \n",
    "                            axis = 1)"
   ]
  },
  {
   "cell_type": "code",
   "execution_count": 17,
   "id": "b68a72a0",
   "metadata": {},
   "outputs": [
    {
     "data": {
      "text/html": [
       "<div>\n",
       "<style scoped>\n",
       "    .dataframe tbody tr th:only-of-type {\n",
       "        vertical-align: middle;\n",
       "    }\n",
       "\n",
       "    .dataframe tbody tr th {\n",
       "        vertical-align: top;\n",
       "    }\n",
       "\n",
       "    .dataframe thead th {\n",
       "        text-align: right;\n",
       "    }\n",
       "</style>\n",
       "<table border=\"1\" class=\"dataframe\">\n",
       "  <thead>\n",
       "    <tr style=\"text-align: right;\">\n",
       "      <th></th>\n",
       "      <th>name</th>\n",
       "      <th>author0</th>\n",
       "      <th>author1</th>\n",
       "      <th>author2</th>\n",
       "      <th>author3</th>\n",
       "      <th>narrator</th>\n",
       "      <th>time</th>\n",
       "      <th>releasedate</th>\n",
       "      <th>language</th>\n",
       "      <th>stars</th>\n",
       "      <th>price</th>\n",
       "    </tr>\n",
       "  </thead>\n",
       "  <tbody>\n",
       "    <tr>\n",
       "      <th>0</th>\n",
       "      <td>Geronimo Stilton #11 &amp; #12</td>\n",
       "      <td>Geronimo Stilton</td>\n",
       "      <td>None</td>\n",
       "      <td>None</td>\n",
       "      <td>None</td>\n",
       "      <td>Narratedby:BillLobely</td>\n",
       "      <td>2 hrs and 20 mins</td>\n",
       "      <td>04-08-08</td>\n",
       "      <td>English</td>\n",
       "      <td>5 out of 5 stars34 ratings</td>\n",
       "      <td>468.00</td>\n",
       "    </tr>\n",
       "    <tr>\n",
       "      <th>1</th>\n",
       "      <td>The Burning Maze</td>\n",
       "      <td>Rick Riordan</td>\n",
       "      <td>None</td>\n",
       "      <td>None</td>\n",
       "      <td>None</td>\n",
       "      <td>Narratedby:RobbieDaymond</td>\n",
       "      <td>13 hrs and 8 mins</td>\n",
       "      <td>01-05-18</td>\n",
       "      <td>English</td>\n",
       "      <td>4.5 out of 5 stars41 ratings</td>\n",
       "      <td>820.00</td>\n",
       "    </tr>\n",
       "    <tr>\n",
       "      <th>2</th>\n",
       "      <td>The Deep End</td>\n",
       "      <td>Jeff Kinney</td>\n",
       "      <td>None</td>\n",
       "      <td>None</td>\n",
       "      <td>None</td>\n",
       "      <td>Narratedby:DanRussell</td>\n",
       "      <td>2 hrs and 3 mins</td>\n",
       "      <td>06-11-20</td>\n",
       "      <td>English</td>\n",
       "      <td>4.5 out of 5 stars38 ratings</td>\n",
       "      <td>410.00</td>\n",
       "    </tr>\n",
       "    <tr>\n",
       "      <th>3</th>\n",
       "      <td>Daughter of the Deep</td>\n",
       "      <td>Rick Riordan</td>\n",
       "      <td>None</td>\n",
       "      <td>None</td>\n",
       "      <td>None</td>\n",
       "      <td>Narratedby:SoneelaNankani</td>\n",
       "      <td>11 hrs and 16 mins</td>\n",
       "      <td>05-10-21</td>\n",
       "      <td>English</td>\n",
       "      <td>4.5 out of 5 stars12 ratings</td>\n",
       "      <td>615.00</td>\n",
       "    </tr>\n",
       "    <tr>\n",
       "      <th>4</th>\n",
       "      <td>The Lightning Thief: Percy Jackson, Book 1</td>\n",
       "      <td>Rick Riordan</td>\n",
       "      <td>None</td>\n",
       "      <td>None</td>\n",
       "      <td>None</td>\n",
       "      <td>Narratedby:JesseBernstein</td>\n",
       "      <td>10 hrs</td>\n",
       "      <td>13-01-10</td>\n",
       "      <td>English</td>\n",
       "      <td>4.5 out of 5 stars181 ratings</td>\n",
       "      <td>820.00</td>\n",
       "    </tr>\n",
       "  </tbody>\n",
       "</table>\n",
       "</div>"
      ],
      "text/plain": [
       "                                         name           author0 author1   \n",
       "0                  Geronimo Stilton #11 & #12  Geronimo Stilton    None  \\\n",
       "1                            The Burning Maze      Rick Riordan    None   \n",
       "2                                The Deep End       Jeff Kinney    None   \n",
       "3                        Daughter of the Deep      Rick Riordan    None   \n",
       "4  The Lightning Thief: Percy Jackson, Book 1      Rick Riordan    None   \n",
       "\n",
       "  author2 author3                   narrator                time releasedate   \n",
       "0    None    None      Narratedby:BillLobely   2 hrs and 20 mins    04-08-08  \\\n",
       "1    None    None   Narratedby:RobbieDaymond   13 hrs and 8 mins    01-05-18   \n",
       "2    None    None      Narratedby:DanRussell    2 hrs and 3 mins    06-11-20   \n",
       "3    None    None  Narratedby:SoneelaNankani  11 hrs and 16 mins    05-10-21   \n",
       "4    None    None  Narratedby:JesseBernstein              10 hrs    13-01-10   \n",
       "\n",
       "  language                          stars   price  \n",
       "0  English     5 out of 5 stars34 ratings  468.00  \n",
       "1  English   4.5 out of 5 stars41 ratings  820.00  \n",
       "2  English   4.5 out of 5 stars38 ratings  410.00  \n",
       "3  English   4.5 out of 5 stars12 ratings  615.00  \n",
       "4  English  4.5 out of 5 stars181 ratings  820.00  "
      ]
     },
     "execution_count": 17,
     "metadata": {},
     "output_type": "execute_result"
    }
   ],
   "source": [
    "audible_data2.head()"
   ]
  },
  {
   "cell_type": "markdown",
   "id": "f9e79fd2",
   "metadata": {},
   "source": [
    "## New Empty values in author_i columns"
   ]
  },
  {
   "cell_type": "code",
   "execution_count": 18,
   "id": "99e47f80",
   "metadata": {},
   "outputs": [
    {
     "data": {
      "text/plain": [
       "author0        0\n",
       "author1    73762\n",
       "author2    85135\n",
       "author3    86713\n",
       "dtype: int64"
      ]
     },
     "execution_count": 18,
     "metadata": {},
     "output_type": "execute_result"
    }
   ],
   "source": [
    "#number of missing values in author columns\n",
    "audible_data2.loc[:,['author0','author1','author2','author3']].isnull().sum()"
   ]
  },
  {
   "cell_type": "markdown",
   "id": "08b5f40e",
   "metadata": {},
   "source": [
    "## Cleaning narrator column"
   ]
  },
  {
   "cell_type": "code",
   "execution_count": 19,
   "id": "1c9045c5",
   "metadata": {},
   "outputs": [],
   "source": [
    "#removing \"Narratedby:\" from Narrator column\n",
    "\n",
    "audible_data2['narrator'] = audible_data2['narrator'].str.replace(pat = \"Narratedby:\", repl = \"\")\n",
    "\n",
    "#adding space between first and last name of the Narrator\n",
    "\n",
    "audible_data2['narrator'] = audible_data2['narrator'].str.replace(pat = r\"(\\w)([A-Z])\", repl = r\"\\1 \\2\", regex = True)"
   ]
  },
  {
   "cell_type": "code",
   "execution_count": 20,
   "id": "cb9aa44c",
   "metadata": {},
   "outputs": [
    {
     "data": {
      "text/html": [
       "<div>\n",
       "<style scoped>\n",
       "    .dataframe tbody tr th:only-of-type {\n",
       "        vertical-align: middle;\n",
       "    }\n",
       "\n",
       "    .dataframe tbody tr th {\n",
       "        vertical-align: top;\n",
       "    }\n",
       "\n",
       "    .dataframe thead th {\n",
       "        text-align: right;\n",
       "    }\n",
       "</style>\n",
       "<table border=\"1\" class=\"dataframe\">\n",
       "  <thead>\n",
       "    <tr style=\"text-align: right;\">\n",
       "      <th></th>\n",
       "      <th>name</th>\n",
       "      <th>author0</th>\n",
       "      <th>author1</th>\n",
       "      <th>author2</th>\n",
       "      <th>author3</th>\n",
       "      <th>narrator</th>\n",
       "      <th>time</th>\n",
       "      <th>releasedate</th>\n",
       "      <th>language</th>\n",
       "      <th>stars</th>\n",
       "      <th>price</th>\n",
       "    </tr>\n",
       "  </thead>\n",
       "  <tbody>\n",
       "    <tr>\n",
       "      <th>87484</th>\n",
       "      <td>Last Days of the Bus Club</td>\n",
       "      <td>Chris Stewart</td>\n",
       "      <td>None</td>\n",
       "      <td>None</td>\n",
       "      <td>None</td>\n",
       "      <td>Chris Stewart</td>\n",
       "      <td>7 hrs and 34 mins</td>\n",
       "      <td>09-03-17</td>\n",
       "      <td>English</td>\n",
       "      <td>Not rated yet</td>\n",
       "      <td>596.00</td>\n",
       "    </tr>\n",
       "    <tr>\n",
       "      <th>87485</th>\n",
       "      <td>The Alps</td>\n",
       "      <td>Stephen O'Shea</td>\n",
       "      <td>None</td>\n",
       "      <td>None</td>\n",
       "      <td>None</td>\n",
       "      <td>Robert Fass</td>\n",
       "      <td>10 hrs and 7 mins</td>\n",
       "      <td>21-02-17</td>\n",
       "      <td>English</td>\n",
       "      <td>Not rated yet</td>\n",
       "      <td>820.00</td>\n",
       "    </tr>\n",
       "    <tr>\n",
       "      <th>87486</th>\n",
       "      <td>The Innocents Abroad</td>\n",
       "      <td>Mark Twain</td>\n",
       "      <td>None</td>\n",
       "      <td>None</td>\n",
       "      <td>None</td>\n",
       "      <td>Flo Gibson</td>\n",
       "      <td>19 hrs and 4 mins</td>\n",
       "      <td>30-12-16</td>\n",
       "      <td>English</td>\n",
       "      <td>Not rated yet</td>\n",
       "      <td>938.00</td>\n",
       "    </tr>\n",
       "    <tr>\n",
       "      <th>87487</th>\n",
       "      <td>A Sentimental Journey</td>\n",
       "      <td>Laurence Sterne</td>\n",
       "      <td>None</td>\n",
       "      <td>None</td>\n",
       "      <td>None</td>\n",
       "      <td>Anton Lesser</td>\n",
       "      <td>4 hrs and 8 mins</td>\n",
       "      <td>23-02-11</td>\n",
       "      <td>English</td>\n",
       "      <td>Not rated yet</td>\n",
       "      <td>680.00</td>\n",
       "    </tr>\n",
       "    <tr>\n",
       "      <th>87488</th>\n",
       "      <td>Havana</td>\n",
       "      <td>Mark Kurlansky</td>\n",
       "      <td>None</td>\n",
       "      <td>None</td>\n",
       "      <td>None</td>\n",
       "      <td>Fleet Cooper</td>\n",
       "      <td>6 hrs and 1 min</td>\n",
       "      <td>07-03-17</td>\n",
       "      <td>English</td>\n",
       "      <td>Not rated yet</td>\n",
       "      <td>569.00</td>\n",
       "    </tr>\n",
       "  </tbody>\n",
       "</table>\n",
       "</div>"
      ],
      "text/plain": [
       "                            name          author0 author1 author2 author3   \n",
       "87484  Last Days of the Bus Club    Chris Stewart    None    None    None  \\\n",
       "87485                   The Alps   Stephen O'Shea    None    None    None   \n",
       "87486       The Innocents Abroad       Mark Twain    None    None    None   \n",
       "87487      A Sentimental Journey  Laurence Sterne    None    None    None   \n",
       "87488                     Havana   Mark Kurlansky    None    None    None   \n",
       "\n",
       "            narrator               time releasedate language          stars   \n",
       "87484  Chris Stewart  7 hrs and 34 mins    09-03-17  English  Not rated yet  \\\n",
       "87485    Robert Fass  10 hrs and 7 mins    21-02-17  English  Not rated yet   \n",
       "87486     Flo Gibson  19 hrs and 4 mins    30-12-16  English  Not rated yet   \n",
       "87487   Anton Lesser   4 hrs and 8 mins    23-02-11  English  Not rated yet   \n",
       "87488   Fleet Cooper    6 hrs and 1 min    07-03-17  English  Not rated yet   \n",
       "\n",
       "        price  \n",
       "87484  596.00  \n",
       "87485  820.00  \n",
       "87486  938.00  \n",
       "87487  680.00  \n",
       "87488  569.00  "
      ]
     },
     "execution_count": 20,
     "metadata": {},
     "output_type": "execute_result"
    }
   ],
   "source": [
    "#preview of the dataset so far\n",
    "audible_data2.tail(5)"
   ]
  },
  {
   "cell_type": "markdown",
   "id": "bcb35b7a",
   "metadata": {},
   "source": [
    "## Cleaning time comumn"
   ]
  },
  {
   "cell_type": "markdown",
   "id": "7a374806",
   "metadata": {},
   "source": [
    "### Understanding the different formats present in the strings of time column:"
   ]
  },
  {
   "cell_type": "code",
   "execution_count": 21,
   "id": "27ecb0b7",
   "metadata": {},
   "outputs": [
    {
     "data": {
      "text/plain": [
       "0           hrs and  mins\n",
       "4                     hrs\n",
       "12           hrs and  min\n",
       "29           hr and  mins\n",
       "53                   mins\n",
       "227                    hr\n",
       "255           hr and  min\n",
       "1203                  min\n",
       "1401    Less than  minute\n",
       "Name: time, dtype: object"
      ]
     },
     "execution_count": 21,
     "metadata": {},
     "output_type": "execute_result"
    }
   ],
   "source": [
    "time_column = audible_data2['time']\n",
    "\n",
    "#replacing all numbers with blanks\n",
    "\n",
    "time_column = time_column.str.replace(pat = r'[0-9]', repl = '', regex = True)\n",
    "\n",
    "#keeping only unique patterns\n",
    "\n",
    "time_column.drop_duplicates()\n"
   ]
  },
  {
   "cell_type": "markdown",
   "id": "b10f3bc5",
   "metadata": {},
   "source": [
    "**transformations to do**\n",
    "*  All rows with Less than xx minutes will be replaced with xx minutes.\n",
    "* Since only 1 unique value must be present, less than 1 minute can be simply replaced by '1'.\n",
    "* If other values are present like less than 5 minutes, less than 10 mins etc., then we would use regular expressions to extract and store the digits.\n",
    "* we have to split the time comumn to hour_component and min_component"
   ]
  },
  {
   "cell_type": "code",
   "execution_count": 22,
   "id": "0f6aee90",
   "metadata": {},
   "outputs": [
    {
     "data": {
      "text/plain": [
       "1401    Less than 1 minute\n",
       "Name: time, dtype: object"
      ]
     },
     "execution_count": 22,
     "metadata": {},
     "output_type": "execute_result"
    }
   ],
   "source": [
    "#finding rows with \"less than x minute\" values in audiobook duration\n",
    "\n",
    "less_than_duration = audible_data2[audible_data2.time.str.contains(pat = 'less than', case = False)].index\n",
    "\n",
    "#checking all unique values with 'less than' pattern\n",
    "\n",
    "audible_data2.time[less_than_duration].drop_duplicates()"
   ]
  },
  {
   "cell_type": "markdown",
   "id": "c1226486",
   "metadata": {},
   "source": [
    "### Separating time column into hour_component and min_component"
   ]
  },
  {
   "cell_type": "code",
   "execution_count": 23,
   "id": "46e8d53e",
   "metadata": {},
   "outputs": [],
   "source": [
    "#creating 2 columns- 1 for hour component and the other for minute component.\n",
    "\n",
    "audible_data2['hour_component'] = 0\n",
    "\n",
    "audible_data2['min_component'] = 0"
   ]
  },
  {
   "cell_type": "code",
   "execution_count": 24,
   "id": "118f1236",
   "metadata": {},
   "outputs": [],
   "source": [
    "#Extracting the hour component of audiobook duration into hour column and minute into min_component column\n",
    "\n",
    "audible_data2['hour_component'] = audible_data2.time.str.extract(pat = r'^(\\d+) hr')\n",
    "\n",
    "audible_data2['min_component'] = audible_data2.time.str.extract(pat = r'(\\d+) min')"
   ]
  },
  {
   "cell_type": "code",
   "execution_count": 25,
   "id": "32c99850",
   "metadata": {},
   "outputs": [
    {
     "data": {
      "text/html": [
       "<div>\n",
       "<style scoped>\n",
       "    .dataframe tbody tr th:only-of-type {\n",
       "        vertical-align: middle;\n",
       "    }\n",
       "\n",
       "    .dataframe tbody tr th {\n",
       "        vertical-align: top;\n",
       "    }\n",
       "\n",
       "    .dataframe thead th {\n",
       "        text-align: right;\n",
       "    }\n",
       "</style>\n",
       "<table border=\"1\" class=\"dataframe\">\n",
       "  <thead>\n",
       "    <tr style=\"text-align: right;\">\n",
       "      <th></th>\n",
       "      <th>time</th>\n",
       "      <th>hour_component</th>\n",
       "      <th>min_component</th>\n",
       "    </tr>\n",
       "  </thead>\n",
       "  <tbody>\n",
       "    <tr>\n",
       "      <th>27169</th>\n",
       "      <td>7 hrs and 12 mins</td>\n",
       "      <td>7</td>\n",
       "      <td>12</td>\n",
       "    </tr>\n",
       "    <tr>\n",
       "      <th>22487</th>\n",
       "      <td>22 hrs and 18 mins</td>\n",
       "      <td>22</td>\n",
       "      <td>18</td>\n",
       "    </tr>\n",
       "    <tr>\n",
       "      <th>70991</th>\n",
       "      <td>9 hrs and 1 min</td>\n",
       "      <td>9</td>\n",
       "      <td>1</td>\n",
       "    </tr>\n",
       "    <tr>\n",
       "      <th>40227</th>\n",
       "      <td>1 hr and 13 mins</td>\n",
       "      <td>1</td>\n",
       "      <td>13</td>\n",
       "    </tr>\n",
       "    <tr>\n",
       "      <th>28185</th>\n",
       "      <td>3 hrs and 40 mins</td>\n",
       "      <td>3</td>\n",
       "      <td>40</td>\n",
       "    </tr>\n",
       "  </tbody>\n",
       "</table>\n",
       "</div>"
      ],
      "text/plain": [
       "                     time hour_component min_component\n",
       "27169   7 hrs and 12 mins              7            12\n",
       "22487  22 hrs and 18 mins             22            18\n",
       "70991     9 hrs and 1 min              9             1\n",
       "40227    1 hr and 13 mins              1            13\n",
       "28185   3 hrs and 40 mins              3            40"
      ]
     },
     "execution_count": 25,
     "metadata": {},
     "output_type": "execute_result"
    }
   ],
   "source": [
    "#preview of extracted time\n",
    "\n",
    "audible_data2.loc[:,['time', 'hour_component', 'min_component']].sample(5)"
   ]
  },
  {
   "cell_type": "markdown",
   "id": "ee17497d",
   "metadata": {},
   "source": [
    "### Cleaning newly created missing values"
   ]
  },
  {
   "cell_type": "code",
   "execution_count": 26,
   "id": "6f4b4815",
   "metadata": {},
   "outputs": [],
   "source": [
    "#converting all NaN values in hour and minute component column to 0\n",
    "\n",
    "audible_data2['hour_component'] = audible_data2['hour_component'].fillna(0)\n",
    "\n",
    "audible_data2['min_component'] = audible_data2['min_component'].fillna(0)"
   ]
  },
  {
   "cell_type": "code",
   "execution_count": 27,
   "id": "f53ef1c9",
   "metadata": {},
   "outputs": [
    {
     "data": {
      "text/html": [
       "<div>\n",
       "<style scoped>\n",
       "    .dataframe tbody tr th:only-of-type {\n",
       "        vertical-align: middle;\n",
       "    }\n",
       "\n",
       "    .dataframe tbody tr th {\n",
       "        vertical-align: top;\n",
       "    }\n",
       "\n",
       "    .dataframe thead th {\n",
       "        text-align: right;\n",
       "    }\n",
       "</style>\n",
       "<table border=\"1\" class=\"dataframe\">\n",
       "  <thead>\n",
       "    <tr style=\"text-align: right;\">\n",
       "      <th></th>\n",
       "      <th>time</th>\n",
       "      <th>hour_component</th>\n",
       "      <th>min_component</th>\n",
       "    </tr>\n",
       "  </thead>\n",
       "  <tbody>\n",
       "    <tr>\n",
       "      <th>328</th>\n",
       "      <td>11 mins</td>\n",
       "      <td>0</td>\n",
       "      <td>11</td>\n",
       "    </tr>\n",
       "    <tr>\n",
       "      <th>5532</th>\n",
       "      <td>12 mins</td>\n",
       "      <td>0</td>\n",
       "      <td>12</td>\n",
       "    </tr>\n",
       "    <tr>\n",
       "      <th>1583</th>\n",
       "      <td>5 mins</td>\n",
       "      <td>0</td>\n",
       "      <td>5</td>\n",
       "    </tr>\n",
       "  </tbody>\n",
       "</table>\n",
       "</div>"
      ],
      "text/plain": [
       "         time hour_component min_component\n",
       "328   11 mins              0            11\n",
       "5532  12 mins              0            12\n",
       "1583   5 mins              0             5"
      ]
     },
     "execution_count": 27,
     "metadata": {},
     "output_type": "execute_result"
    }
   ],
   "source": [
    "#sample preview-- a few random indices to show how values are tranformed\n",
    "\n",
    "audible_data2.loc[[328,5532,1583], ['time', 'hour_component', 'min_component']]"
   ]
  },
  {
   "cell_type": "code",
   "execution_count": 28,
   "id": "481129d6",
   "metadata": {},
   "outputs": [
    {
     "data": {
      "text/plain": [
       "name              object\n",
       "author0           object\n",
       "author1           object\n",
       "author2           object\n",
       "author3           object\n",
       "narrator          object\n",
       "time              object\n",
       "releasedate       object\n",
       "language          object\n",
       "stars             object\n",
       "price             object\n",
       "hour_component    object\n",
       "min_component     object\n",
       "dtype: object"
      ]
     },
     "execution_count": 28,
     "metadata": {},
     "output_type": "execute_result"
    }
   ],
   "source": [
    "audible_data2.dtypes"
   ]
  },
  {
   "cell_type": "markdown",
   "id": "a9baad46",
   "metadata": {},
   "source": [
    "### Converting types "
   ]
  },
  {
   "cell_type": "code",
   "execution_count": 29,
   "id": "cd09f436",
   "metadata": {},
   "outputs": [],
   "source": [
    "#converting the hour and min column to int type\n",
    "\n",
    "audible_data2 = audible_data2.astype({'hour_component':'int','min_component':'int'})"
   ]
  },
  {
   "cell_type": "code",
   "execution_count": 30,
   "id": "9f6bba27",
   "metadata": {},
   "outputs": [
    {
     "name": "stdout",
     "output_type": "stream",
     "text": [
      "<class 'pandas.core.frame.DataFrame'>\n",
      "RangeIndex: 87489 entries, 0 to 87488\n",
      "Data columns (total 13 columns):\n",
      " #   Column          Non-Null Count  Dtype \n",
      "---  ------          --------------  ----- \n",
      " 0   name            87489 non-null  object\n",
      " 1   author0         87489 non-null  object\n",
      " 2   author1         13727 non-null  object\n",
      " 3   author2         2354 non-null   object\n",
      " 4   author3         776 non-null    object\n",
      " 5   narrator        87489 non-null  object\n",
      " 6   time            87489 non-null  object\n",
      " 7   releasedate     87489 non-null  object\n",
      " 8   language        87489 non-null  object\n",
      " 9   stars           87489 non-null  object\n",
      " 10  price           87489 non-null  object\n",
      " 11  hour_component  87489 non-null  int32 \n",
      " 12  min_component   87489 non-null  int32 \n",
      "dtypes: int32(2), object(11)\n",
      "memory usage: 8.0+ MB\n"
     ]
    }
   ],
   "source": [
    "audible_data2.info()"
   ]
  },
  {
   "cell_type": "markdown",
   "id": "28166371",
   "metadata": {},
   "source": [
    "## Cleaning date column"
   ]
  },
  {
   "cell_type": "code",
   "execution_count": 31,
   "id": "4713539e",
   "metadata": {},
   "outputs": [
    {
     "data": {
      "text/plain": [
       "69290    18-06-19\n",
       "28613    02-04-13\n",
       "77790    25-02-20\n",
       "22396    06-08-19\n",
       "58022    08-10-19\n",
       "Name: releasedate, dtype: object"
      ]
     },
     "execution_count": 31,
     "metadata": {},
     "output_type": "execute_result"
    }
   ],
   "source": [
    "audible_data2.releasedate.sample(5)"
   ]
  },
  {
   "cell_type": "markdown",
   "id": "2c515f8f",
   "metadata": {},
   "source": [
    "### checking  for inconsistencies"
   ]
  },
  {
   "cell_type": "code",
   "execution_count": 32,
   "id": "abe6f6a5",
   "metadata": {},
   "outputs": [
    {
     "data": {
      "text/plain": [
       "False"
      ]
     },
     "execution_count": 32,
     "metadata": {},
     "output_type": "execute_result"
    }
   ],
   "source": [
    "#day component- dd\n",
    "\n",
    "#checking if any value in day part > 31.\n",
    "\n",
    "any(audible_data2.releasedate.str.extract(pat = r'^(\\d+)-').drop_duplicates().astype(int) > 31)"
   ]
  },
  {
   "cell_type": "code",
   "execution_count": 33,
   "id": "c7846195",
   "metadata": {},
   "outputs": [
    {
     "data": {
      "text/plain": [
       "False"
      ]
     },
     "execution_count": 33,
     "metadata": {},
     "output_type": "execute_result"
    }
   ],
   "source": [
    "#check for inconsistencies in month of release date\n",
    "\n",
    "#Check to see whether middle values (months) contain any number > 12\n",
    "\n",
    "#all unique months.\n",
    "\n",
    "any((audible_data2.releasedate.str.extract(pat = r'-(\\d+)-').drop_duplicates()).astype(int) > 12)"
   ]
  },
  {
   "cell_type": "code",
   "execution_count": 49,
   "id": "1f9c3a55",
   "metadata": {},
   "outputs": [
    {
     "data": {
      "text/html": [
       "<div>\n",
       "<style scoped>\n",
       "    .dataframe tbody tr th:only-of-type {\n",
       "        vertical-align: middle;\n",
       "    }\n",
       "\n",
       "    .dataframe tbody tr th {\n",
       "        vertical-align: top;\n",
       "    }\n",
       "\n",
       "    .dataframe thead th {\n",
       "        text-align: right;\n",
       "    }\n",
       "</style>\n",
       "<table border=\"1\" class=\"dataframe\">\n",
       "  <thead>\n",
       "    <tr style=\"text-align: right;\">\n",
       "      <th></th>\n",
       "      <th>0</th>\n",
       "    </tr>\n",
       "  </thead>\n",
       "  <tbody>\n",
       "    <tr>\n",
       "      <th>0</th>\n",
       "      <td>08</td>\n",
       "    </tr>\n",
       "    <tr>\n",
       "      <th>1</th>\n",
       "      <td>18</td>\n",
       "    </tr>\n",
       "    <tr>\n",
       "      <th>2</th>\n",
       "      <td>20</td>\n",
       "    </tr>\n",
       "    <tr>\n",
       "      <th>3</th>\n",
       "      <td>21</td>\n",
       "    </tr>\n",
       "    <tr>\n",
       "      <th>4</th>\n",
       "      <td>10</td>\n",
       "    </tr>\n",
       "    <tr>\n",
       "      <th>6</th>\n",
       "      <td>14</td>\n",
       "    </tr>\n",
       "    <tr>\n",
       "      <th>7</th>\n",
       "      <td>17</td>\n",
       "    </tr>\n",
       "    <tr>\n",
       "      <th>9</th>\n",
       "      <td>19</td>\n",
       "    </tr>\n",
       "    <tr>\n",
       "      <th>11</th>\n",
       "      <td>11</td>\n",
       "    </tr>\n",
       "    <tr>\n",
       "      <th>16</th>\n",
       "      <td>04</td>\n",
       "    </tr>\n",
       "    <tr>\n",
       "      <th>21</th>\n",
       "      <td>09</td>\n",
       "    </tr>\n",
       "    <tr>\n",
       "      <th>22</th>\n",
       "      <td>13</td>\n",
       "    </tr>\n",
       "    <tr>\n",
       "      <th>25</th>\n",
       "      <td>03</td>\n",
       "    </tr>\n",
       "    <tr>\n",
       "      <th>31</th>\n",
       "      <td>05</td>\n",
       "    </tr>\n",
       "    <tr>\n",
       "      <th>37</th>\n",
       "      <td>16</td>\n",
       "    </tr>\n",
       "    <tr>\n",
       "      <th>39</th>\n",
       "      <td>15</td>\n",
       "    </tr>\n",
       "    <tr>\n",
       "      <th>61</th>\n",
       "      <td>22</td>\n",
       "    </tr>\n",
       "    <tr>\n",
       "      <th>64</th>\n",
       "      <td>12</td>\n",
       "    </tr>\n",
       "    <tr>\n",
       "      <th>84</th>\n",
       "      <td>07</td>\n",
       "    </tr>\n",
       "    <tr>\n",
       "      <th>343</th>\n",
       "      <td>06</td>\n",
       "    </tr>\n",
       "    <tr>\n",
       "      <th>968</th>\n",
       "      <td>00</td>\n",
       "    </tr>\n",
       "    <tr>\n",
       "      <th>2328</th>\n",
       "      <td>02</td>\n",
       "    </tr>\n",
       "    <tr>\n",
       "      <th>2812</th>\n",
       "      <td>99</td>\n",
       "    </tr>\n",
       "    <tr>\n",
       "      <th>3715</th>\n",
       "      <td>01</td>\n",
       "    </tr>\n",
       "    <tr>\n",
       "      <th>23039</th>\n",
       "      <td>98</td>\n",
       "    </tr>\n",
       "    <tr>\n",
       "      <th>50810</th>\n",
       "      <td>23</td>\n",
       "    </tr>\n",
       "    <tr>\n",
       "      <th>82791</th>\n",
       "      <td>24</td>\n",
       "    </tr>\n",
       "    <tr>\n",
       "      <th>82959</th>\n",
       "      <td>25</td>\n",
       "    </tr>\n",
       "  </tbody>\n",
       "</table>\n",
       "</div>"
      ],
      "text/plain": [
       "        0\n",
       "0      08\n",
       "1      18\n",
       "2      20\n",
       "3      21\n",
       "4      10\n",
       "6      14\n",
       "7      17\n",
       "9      19\n",
       "11     11\n",
       "16     04\n",
       "21     09\n",
       "22     13\n",
       "25     03\n",
       "31     05\n",
       "37     16\n",
       "39     15\n",
       "61     22\n",
       "64     12\n",
       "84     07\n",
       "343    06\n",
       "968    00\n",
       "2328   02\n",
       "2812   99\n",
       "3715   01\n",
       "23039  98\n",
       "50810  23\n",
       "82791  24\n",
       "82959  25"
      ]
     },
     "execution_count": 49,
     "metadata": {},
     "output_type": "execute_result"
    }
   ],
   "source": [
    "#check inconsistencies in year value of release date\n",
    "\n",
    "#future release date is also present, hence values 25 for year 2025, 24 for year 2024...\n",
    "\n",
    "audible_data2.releasedate.str.extract(pat = r'-(\\d+)$').drop_duplicates()"
   ]
  },
  {
   "cell_type": "markdown",
   "id": "7bf85067",
   "metadata": {},
   "source": [
    "### Converting type from string to date"
   ]
  },
  {
   "cell_type": "code",
   "execution_count": 34,
   "id": "fb3236ee",
   "metadata": {},
   "outputs": [
    {
     "data": {
      "text/plain": [
       "name                      object\n",
       "author0                   object\n",
       "author1                   object\n",
       "author2                   object\n",
       "author3                   object\n",
       "narrator                  object\n",
       "time                      object\n",
       "releasedate       datetime64[ns]\n",
       "language                  object\n",
       "stars                     object\n",
       "price                     object\n",
       "hour_component             int32\n",
       "min_component              int32\n",
       "dtype: object"
      ]
     },
     "execution_count": 34,
     "metadata": {},
     "output_type": "execute_result"
    }
   ],
   "source": [
    "#converting release-date from string to date type\n",
    "\n",
    "audible_data2.releasedate = pd.to_datetime(audible_data2.releasedate, format = '%d-%m-%y')\n",
    "\n",
    "#checking data types again\n",
    "\n",
    "audible_data2.dtypes"
   ]
  },
  {
   "cell_type": "code",
   "execution_count": 35,
   "id": "a79063a2",
   "metadata": {},
   "outputs": [
    {
     "data": {
      "text/html": [
       "<div>\n",
       "<style scoped>\n",
       "    .dataframe tbody tr th:only-of-type {\n",
       "        vertical-align: middle;\n",
       "    }\n",
       "\n",
       "    .dataframe tbody tr th {\n",
       "        vertical-align: top;\n",
       "    }\n",
       "\n",
       "    .dataframe thead th {\n",
       "        text-align: right;\n",
       "    }\n",
       "</style>\n",
       "<table border=\"1\" class=\"dataframe\">\n",
       "  <thead>\n",
       "    <tr style=\"text-align: right;\">\n",
       "      <th></th>\n",
       "      <th>name</th>\n",
       "      <th>author0</th>\n",
       "      <th>author1</th>\n",
       "      <th>author2</th>\n",
       "      <th>author3</th>\n",
       "      <th>narrator</th>\n",
       "      <th>time</th>\n",
       "      <th>releasedate</th>\n",
       "      <th>language</th>\n",
       "      <th>stars</th>\n",
       "      <th>price</th>\n",
       "      <th>hour_component</th>\n",
       "      <th>min_component</th>\n",
       "    </tr>\n",
       "  </thead>\n",
       "  <tbody>\n",
       "    <tr>\n",
       "      <th>0</th>\n",
       "      <td>Geronimo Stilton #11 &amp; #12</td>\n",
       "      <td>Geronimo Stilton</td>\n",
       "      <td>None</td>\n",
       "      <td>None</td>\n",
       "      <td>None</td>\n",
       "      <td>Bill Lobely</td>\n",
       "      <td>2 hrs and 20 mins</td>\n",
       "      <td>2008-08-04</td>\n",
       "      <td>English</td>\n",
       "      <td>5 out of 5 stars34 ratings</td>\n",
       "      <td>468.00</td>\n",
       "      <td>2</td>\n",
       "      <td>20</td>\n",
       "    </tr>\n",
       "    <tr>\n",
       "      <th>1</th>\n",
       "      <td>The Burning Maze</td>\n",
       "      <td>Rick Riordan</td>\n",
       "      <td>None</td>\n",
       "      <td>None</td>\n",
       "      <td>None</td>\n",
       "      <td>Robbie Daymond</td>\n",
       "      <td>13 hrs and 8 mins</td>\n",
       "      <td>2018-05-01</td>\n",
       "      <td>English</td>\n",
       "      <td>4.5 out of 5 stars41 ratings</td>\n",
       "      <td>820.00</td>\n",
       "      <td>13</td>\n",
       "      <td>8</td>\n",
       "    </tr>\n",
       "    <tr>\n",
       "      <th>2</th>\n",
       "      <td>The Deep End</td>\n",
       "      <td>Jeff Kinney</td>\n",
       "      <td>None</td>\n",
       "      <td>None</td>\n",
       "      <td>None</td>\n",
       "      <td>Dan Russell</td>\n",
       "      <td>2 hrs and 3 mins</td>\n",
       "      <td>2020-11-06</td>\n",
       "      <td>English</td>\n",
       "      <td>4.5 out of 5 stars38 ratings</td>\n",
       "      <td>410.00</td>\n",
       "      <td>2</td>\n",
       "      <td>3</td>\n",
       "    </tr>\n",
       "    <tr>\n",
       "      <th>3</th>\n",
       "      <td>Daughter of the Deep</td>\n",
       "      <td>Rick Riordan</td>\n",
       "      <td>None</td>\n",
       "      <td>None</td>\n",
       "      <td>None</td>\n",
       "      <td>Soneela Nankani</td>\n",
       "      <td>11 hrs and 16 mins</td>\n",
       "      <td>2021-10-05</td>\n",
       "      <td>English</td>\n",
       "      <td>4.5 out of 5 stars12 ratings</td>\n",
       "      <td>615.00</td>\n",
       "      <td>11</td>\n",
       "      <td>16</td>\n",
       "    </tr>\n",
       "    <tr>\n",
       "      <th>4</th>\n",
       "      <td>The Lightning Thief: Percy Jackson, Book 1</td>\n",
       "      <td>Rick Riordan</td>\n",
       "      <td>None</td>\n",
       "      <td>None</td>\n",
       "      <td>None</td>\n",
       "      <td>Jesse Bernstein</td>\n",
       "      <td>10 hrs</td>\n",
       "      <td>2010-01-13</td>\n",
       "      <td>English</td>\n",
       "      <td>4.5 out of 5 stars181 ratings</td>\n",
       "      <td>820.00</td>\n",
       "      <td>10</td>\n",
       "      <td>0</td>\n",
       "    </tr>\n",
       "  </tbody>\n",
       "</table>\n",
       "</div>"
      ],
      "text/plain": [
       "                                         name           author0 author1   \n",
       "0                  Geronimo Stilton #11 & #12  Geronimo Stilton    None  \\\n",
       "1                            The Burning Maze      Rick Riordan    None   \n",
       "2                                The Deep End       Jeff Kinney    None   \n",
       "3                        Daughter of the Deep      Rick Riordan    None   \n",
       "4  The Lightning Thief: Percy Jackson, Book 1      Rick Riordan    None   \n",
       "\n",
       "  author2 author3         narrator                time releasedate language   \n",
       "0    None    None      Bill Lobely   2 hrs and 20 mins  2008-08-04  English  \\\n",
       "1    None    None   Robbie Daymond   13 hrs and 8 mins  2018-05-01  English   \n",
       "2    None    None      Dan Russell    2 hrs and 3 mins  2020-11-06  English   \n",
       "3    None    None  Soneela Nankani  11 hrs and 16 mins  2021-10-05  English   \n",
       "4    None    None  Jesse Bernstein              10 hrs  2010-01-13  English   \n",
       "\n",
       "                           stars   price  hour_component  min_component  \n",
       "0     5 out of 5 stars34 ratings  468.00               2             20  \n",
       "1   4.5 out of 5 stars41 ratings  820.00              13              8  \n",
       "2   4.5 out of 5 stars38 ratings  410.00               2              3  \n",
       "3   4.5 out of 5 stars12 ratings  615.00              11             16  \n",
       "4  4.5 out of 5 stars181 ratings  820.00              10              0  "
      ]
     },
     "execution_count": 35,
     "metadata": {},
     "output_type": "execute_result"
    }
   ],
   "source": [
    "audible_data2.head()"
   ]
  },
  {
   "cell_type": "markdown",
   "id": "ded09e69",
   "metadata": {},
   "source": [
    "## Cleaning language column"
   ]
  },
  {
   "cell_type": "code",
   "execution_count": 36,
   "id": "ad4b91d1",
   "metadata": {},
   "outputs": [
    {
     "name": "stdout",
     "output_type": "stream",
     "text": [
      "['English', 'Hindi', 'spanish', 'german', 'french', 'catalan', 'swedish', 'italian', 'danish', 'finnish', 'dutch', 'hebrew', 'russian', 'polish', 'galician', 'afrikaans', 'icelandic', 'romanian', 'japanese', 'tamil', 'portuguese', 'urdu', 'hungarian', 'czech', 'bulgarian', 'mandarin_chinese', 'basque', 'korean', 'arabic', 'greek', 'turkish', 'ukrainian', 'slovene', 'norwegian', 'telugu', 'lithuanian']\n"
     ]
    }
   ],
   "source": [
    "#language column\n",
    "\n",
    "print(audible_data2.language.drop_duplicates().tolist())"
   ]
  },
  {
   "cell_type": "code",
   "execution_count": 37,
   "id": "014b2a18",
   "metadata": {},
   "outputs": [],
   "source": [
    "#making language names uniform by capitalizing the first letter.\n",
    "\n",
    "audible_data2.language = audible_data2.language.str.title()"
   ]
  },
  {
   "cell_type": "markdown",
   "id": "cc3828eb",
   "metadata": {},
   "source": [
    "## Cleaning star column"
   ]
  },
  {
   "cell_type": "markdown",
   "id": "1a6995b5",
   "metadata": {},
   "source": [
    "**work to do**\n",
    "\n",
    "Creating 2 columns out of the stars column:\n",
    "\n",
    "   * stars_out_of_5- will contain numeric values like 2, 4.5 etc.\n",
    "   * total_ratings- total number of reviews received on the particular audiobook."
   ]
  },
  {
   "cell_type": "code",
   "execution_count": 38,
   "id": "dbfefd6c",
   "metadata": {},
   "outputs": [
    {
     "data": {
      "text/plain": [
       "42191    5 out of 5 stars2 ratings\n",
       "73449                Not rated yet\n",
       "8083                 Not rated yet\n",
       "87068                Not rated yet\n",
       "85361                Not rated yet\n",
       "Name: stars, dtype: object"
      ]
     },
     "execution_count": 38,
     "metadata": {},
     "output_type": "execute_result"
    }
   ],
   "source": [
    "audible_data2.stars.sample(5)"
   ]
  },
  {
   "cell_type": "code",
   "execution_count": 39,
   "id": "5b2ce6dc",
   "metadata": {},
   "outputs": [
    {
     "data": {
      "text/html": [
       "<div>\n",
       "<style scoped>\n",
       "    .dataframe tbody tr th:only-of-type {\n",
       "        vertical-align: middle;\n",
       "    }\n",
       "\n",
       "    .dataframe tbody tr th {\n",
       "        vertical-align: top;\n",
       "    }\n",
       "\n",
       "    .dataframe thead th {\n",
       "        text-align: right;\n",
       "    }\n",
       "</style>\n",
       "<table border=\"1\" class=\"dataframe\">\n",
       "  <thead>\n",
       "    <tr style=\"text-align: right;\">\n",
       "      <th></th>\n",
       "      <th>stars</th>\n",
       "      <th>stars_out_of_5</th>\n",
       "      <th>total_ratings</th>\n",
       "    </tr>\n",
       "  </thead>\n",
       "  <tbody>\n",
       "    <tr>\n",
       "      <th>0</th>\n",
       "      <td>5 out of 5 stars34 ratings</td>\n",
       "      <td>5 out of 5</td>\n",
       "      <td>34 ratings</td>\n",
       "    </tr>\n",
       "    <tr>\n",
       "      <th>1</th>\n",
       "      <td>4.5 out of 5 stars41 ratings</td>\n",
       "      <td>4.5 out of 5</td>\n",
       "      <td>41 ratings</td>\n",
       "    </tr>\n",
       "    <tr>\n",
       "      <th>2</th>\n",
       "      <td>4.5 out of 5 stars38 ratings</td>\n",
       "      <td>4.5 out of 5</td>\n",
       "      <td>38 ratings</td>\n",
       "    </tr>\n",
       "    <tr>\n",
       "      <th>3</th>\n",
       "      <td>4.5 out of 5 stars12 ratings</td>\n",
       "      <td>4.5 out of 5</td>\n",
       "      <td>12 ratings</td>\n",
       "    </tr>\n",
       "  </tbody>\n",
       "</table>\n",
       "</div>"
      ],
      "text/plain": [
       "                          stars stars_out_of_5 total_ratings\n",
       "0    5 out of 5 stars34 ratings    5 out of 5     34 ratings\n",
       "1  4.5 out of 5 stars41 ratings  4.5 out of 5     41 ratings\n",
       "2  4.5 out of 5 stars38 ratings  4.5 out of 5     38 ratings\n",
       "3  4.5 out of 5 stars12 ratings  4.5 out of 5     12 ratings"
      ]
     },
     "execution_count": 39,
     "metadata": {},
     "output_type": "execute_result"
    }
   ],
   "source": [
    "#splitting stars column into 2\n",
    "audible_data2[['stars_out_of_5', 'total_ratings']] = audible_data2.stars.str.split('stars', expand = True)\n",
    "\n",
    "audible_data2.loc[:,['stars','stars_out_of_5', 'total_ratings']].head(4)"
   ]
  },
  {
   "cell_type": "code",
   "execution_count": 40,
   "id": "0c552410",
   "metadata": {},
   "outputs": [],
   "source": [
    "#making a copy of df cleaned so far.\n",
    "audible_data2_copy = audible_data2.copy()"
   ]
  },
  {
   "cell_type": "code",
   "execution_count": 41,
   "id": "2e2276c3",
   "metadata": {},
   "outputs": [],
   "source": [
    "#replacing 'out of 5' with ''\n",
    "audible_data2.stars_out_of_5 = audible_data2.stars_out_of_5.str.replace(pat = ' out of 5', repl = '')\n",
    "\n",
    "#replacing 'ratings' with ''\n",
    "audible_data2.total_ratings = audible_data2.total_ratings.str.replace(pat = r' ratings| rating', repl = '', regex = True)\n",
    "\n",
    "#removing ',' from ratings. e.g. 1,200 becomes 1200\n",
    "audible_data2.total_ratings = audible_data2.total_ratings.str.replace(pat = ',', repl = '')"
   ]
  },
  {
   "cell_type": "code",
   "execution_count": 42,
   "id": "3b9458bb",
   "metadata": {},
   "outputs": [
    {
     "data": {
      "text/html": [
       "<div>\n",
       "<style scoped>\n",
       "    .dataframe tbody tr th:only-of-type {\n",
       "        vertical-align: middle;\n",
       "    }\n",
       "\n",
       "    .dataframe tbody tr th {\n",
       "        vertical-align: top;\n",
       "    }\n",
       "\n",
       "    .dataframe thead th {\n",
       "        text-align: right;\n",
       "    }\n",
       "</style>\n",
       "<table border=\"1\" class=\"dataframe\">\n",
       "  <thead>\n",
       "    <tr style=\"text-align: right;\">\n",
       "      <th></th>\n",
       "      <th>name</th>\n",
       "      <th>author0</th>\n",
       "      <th>author1</th>\n",
       "      <th>author2</th>\n",
       "      <th>author3</th>\n",
       "      <th>narrator</th>\n",
       "      <th>time</th>\n",
       "      <th>releasedate</th>\n",
       "      <th>language</th>\n",
       "      <th>stars</th>\n",
       "      <th>price</th>\n",
       "      <th>hour_component</th>\n",
       "      <th>min_component</th>\n",
       "      <th>stars_out_of_5</th>\n",
       "      <th>total_ratings</th>\n",
       "    </tr>\n",
       "  </thead>\n",
       "  <tbody>\n",
       "    <tr>\n",
       "      <th>0</th>\n",
       "      <td>Geronimo Stilton #11 &amp; #12</td>\n",
       "      <td>Geronimo Stilton</td>\n",
       "      <td>None</td>\n",
       "      <td>None</td>\n",
       "      <td>None</td>\n",
       "      <td>Bill Lobely</td>\n",
       "      <td>2 hrs and 20 mins</td>\n",
       "      <td>2008-08-04</td>\n",
       "      <td>English</td>\n",
       "      <td>5 out of 5 stars34 ratings</td>\n",
       "      <td>468.00</td>\n",
       "      <td>2</td>\n",
       "      <td>20</td>\n",
       "      <td>5</td>\n",
       "      <td>34</td>\n",
       "    </tr>\n",
       "    <tr>\n",
       "      <th>1</th>\n",
       "      <td>The Burning Maze</td>\n",
       "      <td>Rick Riordan</td>\n",
       "      <td>None</td>\n",
       "      <td>None</td>\n",
       "      <td>None</td>\n",
       "      <td>Robbie Daymond</td>\n",
       "      <td>13 hrs and 8 mins</td>\n",
       "      <td>2018-05-01</td>\n",
       "      <td>English</td>\n",
       "      <td>4.5 out of 5 stars41 ratings</td>\n",
       "      <td>820.00</td>\n",
       "      <td>13</td>\n",
       "      <td>8</td>\n",
       "      <td>4.5</td>\n",
       "      <td>41</td>\n",
       "    </tr>\n",
       "    <tr>\n",
       "      <th>2</th>\n",
       "      <td>The Deep End</td>\n",
       "      <td>Jeff Kinney</td>\n",
       "      <td>None</td>\n",
       "      <td>None</td>\n",
       "      <td>None</td>\n",
       "      <td>Dan Russell</td>\n",
       "      <td>2 hrs and 3 mins</td>\n",
       "      <td>2020-11-06</td>\n",
       "      <td>English</td>\n",
       "      <td>4.5 out of 5 stars38 ratings</td>\n",
       "      <td>410.00</td>\n",
       "      <td>2</td>\n",
       "      <td>3</td>\n",
       "      <td>4.5</td>\n",
       "      <td>38</td>\n",
       "    </tr>\n",
       "    <tr>\n",
       "      <th>3</th>\n",
       "      <td>Daughter of the Deep</td>\n",
       "      <td>Rick Riordan</td>\n",
       "      <td>None</td>\n",
       "      <td>None</td>\n",
       "      <td>None</td>\n",
       "      <td>Soneela Nankani</td>\n",
       "      <td>11 hrs and 16 mins</td>\n",
       "      <td>2021-10-05</td>\n",
       "      <td>English</td>\n",
       "      <td>4.5 out of 5 stars12 ratings</td>\n",
       "      <td>615.00</td>\n",
       "      <td>11</td>\n",
       "      <td>16</td>\n",
       "      <td>4.5</td>\n",
       "      <td>12</td>\n",
       "    </tr>\n",
       "    <tr>\n",
       "      <th>4</th>\n",
       "      <td>The Lightning Thief: Percy Jackson, Book 1</td>\n",
       "      <td>Rick Riordan</td>\n",
       "      <td>None</td>\n",
       "      <td>None</td>\n",
       "      <td>None</td>\n",
       "      <td>Jesse Bernstein</td>\n",
       "      <td>10 hrs</td>\n",
       "      <td>2010-01-13</td>\n",
       "      <td>English</td>\n",
       "      <td>4.5 out of 5 stars181 ratings</td>\n",
       "      <td>820.00</td>\n",
       "      <td>10</td>\n",
       "      <td>0</td>\n",
       "      <td>4.5</td>\n",
       "      <td>181</td>\n",
       "    </tr>\n",
       "  </tbody>\n",
       "</table>\n",
       "</div>"
      ],
      "text/plain": [
       "                                         name           author0 author1   \n",
       "0                  Geronimo Stilton #11 & #12  Geronimo Stilton    None  \\\n",
       "1                            The Burning Maze      Rick Riordan    None   \n",
       "2                                The Deep End       Jeff Kinney    None   \n",
       "3                        Daughter of the Deep      Rick Riordan    None   \n",
       "4  The Lightning Thief: Percy Jackson, Book 1      Rick Riordan    None   \n",
       "\n",
       "  author2 author3         narrator                time releasedate language   \n",
       "0    None    None      Bill Lobely   2 hrs and 20 mins  2008-08-04  English  \\\n",
       "1    None    None   Robbie Daymond   13 hrs and 8 mins  2018-05-01  English   \n",
       "2    None    None      Dan Russell    2 hrs and 3 mins  2020-11-06  English   \n",
       "3    None    None  Soneela Nankani  11 hrs and 16 mins  2021-10-05  English   \n",
       "4    None    None  Jesse Bernstein              10 hrs  2010-01-13  English   \n",
       "\n",
       "                           stars   price  hour_component  min_component   \n",
       "0     5 out of 5 stars34 ratings  468.00               2             20  \\\n",
       "1   4.5 out of 5 stars41 ratings  820.00              13              8   \n",
       "2   4.5 out of 5 stars38 ratings  410.00               2              3   \n",
       "3   4.5 out of 5 stars12 ratings  615.00              11             16   \n",
       "4  4.5 out of 5 stars181 ratings  820.00              10              0   \n",
       "\n",
       "  stars_out_of_5 total_ratings  \n",
       "0             5             34  \n",
       "1           4.5             41  \n",
       "2           4.5             38  \n",
       "3           4.5             12  \n",
       "4           4.5            181  "
      ]
     },
     "execution_count": 42,
     "metadata": {},
     "output_type": "execute_result"
    }
   ],
   "source": [
    "audible_data2.head()"
   ]
  },
  {
   "cell_type": "code",
   "execution_count": 43,
   "id": "687cc029",
   "metadata": {},
   "outputs": [
    {
     "data": {
      "text/plain": [
       "34       None\n",
       "50       None\n",
       "51       None\n",
       "61       None\n",
       "62       None\n",
       "         ... \n",
       "87484    None\n",
       "87485    None\n",
       "87486    None\n",
       "87487    None\n",
       "87488    None\n",
       "Name: total_ratings, Length: 72417, dtype: object"
      ]
     },
     "execution_count": 43,
     "metadata": {},
     "output_type": "execute_result"
    }
   ],
   "source": [
    "audible_data2['total_ratings'][audible_data2['total_ratings'].isna()]\n"
   ]
  },
  {
   "cell_type": "code",
   "execution_count": 44,
   "id": "9ccf4913",
   "metadata": {},
   "outputs": [],
   "source": [
    "#replacing 'Not rated yet' rows with NA\n",
    "\n",
    "#rows with not yet rated value\n",
    "not_rated_rows = audible_data2[audible_data2.stars_out_of_5.str.contains(pat = 'Not rated yet', case = False)].index\n",
    "#replace 'Not yet rated' and 'None' with NA\n",
    "audible_data2.loc[not_rated_rows,['stars_out_of_5', 'total_ratings']] = np.nan"
   ]
  },
  {
   "cell_type": "code",
   "execution_count": 45,
   "id": "d1921071",
   "metadata": {},
   "outputs": [],
   "source": [
    "#convert both columns to float type\n",
    "audible_data2 = audible_data2.astype({'stars_out_of_5':'float', 'total_ratings':'float'})"
   ]
  },
  {
   "cell_type": "code",
   "execution_count": 46,
   "id": "92687d07",
   "metadata": {},
   "outputs": [
    {
     "data": {
      "text/plain": [
       "name                      object\n",
       "author0                   object\n",
       "author1                   object\n",
       "author2                   object\n",
       "author3                   object\n",
       "narrator                  object\n",
       "time                      object\n",
       "releasedate       datetime64[ns]\n",
       "language                  object\n",
       "stars                     object\n",
       "price                     object\n",
       "hour_component             int32\n",
       "min_component              int32\n",
       "stars_out_of_5           float64\n",
       "total_ratings            float64\n",
       "dtype: object"
      ]
     },
     "execution_count": 46,
     "metadata": {},
     "output_type": "execute_result"
    }
   ],
   "source": [
    "audible_data2.dtypes"
   ]
  },
  {
   "cell_type": "code",
   "execution_count": 47,
   "id": "ca9b49d4",
   "metadata": {},
   "outputs": [],
   "source": [
    "#replacing NaN with 0\n",
    "\n",
    "audible_data2.loc[not_rated_rows,['stars_out_of_5', 'total_ratings']] = 0"
   ]
  },
  {
   "cell_type": "code",
   "execution_count": 48,
   "id": "0f276bd5",
   "metadata": {},
   "outputs": [
    {
     "data": {
      "text/html": [
       "<div>\n",
       "<style scoped>\n",
       "    .dataframe tbody tr th:only-of-type {\n",
       "        vertical-align: middle;\n",
       "    }\n",
       "\n",
       "    .dataframe tbody tr th {\n",
       "        vertical-align: top;\n",
       "    }\n",
       "\n",
       "    .dataframe thead th {\n",
       "        text-align: right;\n",
       "    }\n",
       "</style>\n",
       "<table border=\"1\" class=\"dataframe\">\n",
       "  <thead>\n",
       "    <tr style=\"text-align: right;\">\n",
       "      <th></th>\n",
       "      <th>name</th>\n",
       "      <th>author0</th>\n",
       "      <th>author1</th>\n",
       "      <th>author2</th>\n",
       "      <th>author3</th>\n",
       "      <th>narrator</th>\n",
       "      <th>time</th>\n",
       "      <th>releasedate</th>\n",
       "      <th>language</th>\n",
       "      <th>stars</th>\n",
       "      <th>price</th>\n",
       "      <th>hour_component</th>\n",
       "      <th>min_component</th>\n",
       "      <th>stars_out_of_5</th>\n",
       "      <th>total_ratings</th>\n",
       "    </tr>\n",
       "  </thead>\n",
       "  <tbody>\n",
       "    <tr>\n",
       "      <th>0</th>\n",
       "      <td>Geronimo Stilton #11 &amp; #12</td>\n",
       "      <td>Geronimo Stilton</td>\n",
       "      <td>None</td>\n",
       "      <td>None</td>\n",
       "      <td>None</td>\n",
       "      <td>Bill Lobely</td>\n",
       "      <td>2 hrs and 20 mins</td>\n",
       "      <td>2008-08-04</td>\n",
       "      <td>English</td>\n",
       "      <td>5 out of 5 stars34 ratings</td>\n",
       "      <td>468.00</td>\n",
       "      <td>2</td>\n",
       "      <td>20</td>\n",
       "      <td>5.0</td>\n",
       "      <td>34.0</td>\n",
       "    </tr>\n",
       "    <tr>\n",
       "      <th>1</th>\n",
       "      <td>The Burning Maze</td>\n",
       "      <td>Rick Riordan</td>\n",
       "      <td>None</td>\n",
       "      <td>None</td>\n",
       "      <td>None</td>\n",
       "      <td>Robbie Daymond</td>\n",
       "      <td>13 hrs and 8 mins</td>\n",
       "      <td>2018-05-01</td>\n",
       "      <td>English</td>\n",
       "      <td>4.5 out of 5 stars41 ratings</td>\n",
       "      <td>820.00</td>\n",
       "      <td>13</td>\n",
       "      <td>8</td>\n",
       "      <td>4.5</td>\n",
       "      <td>41.0</td>\n",
       "    </tr>\n",
       "    <tr>\n",
       "      <th>2</th>\n",
       "      <td>The Deep End</td>\n",
       "      <td>Jeff Kinney</td>\n",
       "      <td>None</td>\n",
       "      <td>None</td>\n",
       "      <td>None</td>\n",
       "      <td>Dan Russell</td>\n",
       "      <td>2 hrs and 3 mins</td>\n",
       "      <td>2020-11-06</td>\n",
       "      <td>English</td>\n",
       "      <td>4.5 out of 5 stars38 ratings</td>\n",
       "      <td>410.00</td>\n",
       "      <td>2</td>\n",
       "      <td>3</td>\n",
       "      <td>4.5</td>\n",
       "      <td>38.0</td>\n",
       "    </tr>\n",
       "    <tr>\n",
       "      <th>3</th>\n",
       "      <td>Daughter of the Deep</td>\n",
       "      <td>Rick Riordan</td>\n",
       "      <td>None</td>\n",
       "      <td>None</td>\n",
       "      <td>None</td>\n",
       "      <td>Soneela Nankani</td>\n",
       "      <td>11 hrs and 16 mins</td>\n",
       "      <td>2021-10-05</td>\n",
       "      <td>English</td>\n",
       "      <td>4.5 out of 5 stars12 ratings</td>\n",
       "      <td>615.00</td>\n",
       "      <td>11</td>\n",
       "      <td>16</td>\n",
       "      <td>4.5</td>\n",
       "      <td>12.0</td>\n",
       "    </tr>\n",
       "    <tr>\n",
       "      <th>4</th>\n",
       "      <td>The Lightning Thief: Percy Jackson, Book 1</td>\n",
       "      <td>Rick Riordan</td>\n",
       "      <td>None</td>\n",
       "      <td>None</td>\n",
       "      <td>None</td>\n",
       "      <td>Jesse Bernstein</td>\n",
       "      <td>10 hrs</td>\n",
       "      <td>2010-01-13</td>\n",
       "      <td>English</td>\n",
       "      <td>4.5 out of 5 stars181 ratings</td>\n",
       "      <td>820.00</td>\n",
       "      <td>10</td>\n",
       "      <td>0</td>\n",
       "      <td>4.5</td>\n",
       "      <td>181.0</td>\n",
       "    </tr>\n",
       "  </tbody>\n",
       "</table>\n",
       "</div>"
      ],
      "text/plain": [
       "                                         name           author0 author1   \n",
       "0                  Geronimo Stilton #11 & #12  Geronimo Stilton    None  \\\n",
       "1                            The Burning Maze      Rick Riordan    None   \n",
       "2                                The Deep End       Jeff Kinney    None   \n",
       "3                        Daughter of the Deep      Rick Riordan    None   \n",
       "4  The Lightning Thief: Percy Jackson, Book 1      Rick Riordan    None   \n",
       "\n",
       "  author2 author3         narrator                time releasedate language   \n",
       "0    None    None      Bill Lobely   2 hrs and 20 mins  2008-08-04  English  \\\n",
       "1    None    None   Robbie Daymond   13 hrs and 8 mins  2018-05-01  English   \n",
       "2    None    None      Dan Russell    2 hrs and 3 mins  2020-11-06  English   \n",
       "3    None    None  Soneela Nankani  11 hrs and 16 mins  2021-10-05  English   \n",
       "4    None    None  Jesse Bernstein              10 hrs  2010-01-13  English   \n",
       "\n",
       "                           stars   price  hour_component  min_component   \n",
       "0     5 out of 5 stars34 ratings  468.00               2             20  \\\n",
       "1   4.5 out of 5 stars41 ratings  820.00              13              8   \n",
       "2   4.5 out of 5 stars38 ratings  410.00               2              3   \n",
       "3   4.5 out of 5 stars12 ratings  615.00              11             16   \n",
       "4  4.5 out of 5 stars181 ratings  820.00              10              0   \n",
       "\n",
       "   stars_out_of_5  total_ratings  \n",
       "0             5.0           34.0  \n",
       "1             4.5           41.0  \n",
       "2             4.5           38.0  \n",
       "3             4.5           12.0  \n",
       "4             4.5          181.0  "
      ]
     },
     "execution_count": 48,
     "metadata": {},
     "output_type": "execute_result"
    }
   ],
   "source": [
    "audible_data2.head()"
   ]
  },
  {
   "cell_type": "markdown",
   "id": "1f7dc355",
   "metadata": {},
   "source": [
    "## Cleaning price column"
   ]
  },
  {
   "cell_type": "code",
   "execution_count": 49,
   "id": "2bd406e2",
   "metadata": {},
   "outputs": [
    {
     "name": "stdout",
     "output_type": "stream",
     "text": [
      "['Free']\n"
     ]
    }
   ],
   "source": [
    "values_with_letters = audible_data2.loc[audible_data2['price'].str.contains('[a-zA-Z]'), 'price'].unique()\n",
    "print(values_with_letters)\n"
   ]
  },
  {
   "cell_type": "code",
   "execution_count": 50,
   "id": "7dda53ea",
   "metadata": {},
   "outputs": [],
   "source": [
    "#converting price to float type\n",
    "\n",
    "#replace 'free' with 0\n",
    "audible_data2.price = audible_data2.price.str.replace(pat = 'free', repl = '0', case = False)\n",
    "\n",
    "#removing ',' from the values\n",
    "audible_data2.price = audible_data2.price.str.replace(pat = ',', repl = '')\n",
    "\n",
    "#converting to float\n",
    "audible_data2.price = audible_data2.price.astype(float)"
   ]
  },
  {
   "cell_type": "code",
   "execution_count": 51,
   "id": "fc9242f8",
   "metadata": {},
   "outputs": [
    {
     "data": {
      "text/plain": [
       "name                      object\n",
       "author0                   object\n",
       "author1                   object\n",
       "author2                   object\n",
       "author3                   object\n",
       "narrator                  object\n",
       "time                      object\n",
       "releasedate       datetime64[ns]\n",
       "language                  object\n",
       "stars                     object\n",
       "price                    float64\n",
       "hour_component             int32\n",
       "min_component              int32\n",
       "stars_out_of_5           float64\n",
       "total_ratings            float64\n",
       "dtype: object"
      ]
     },
     "execution_count": 51,
     "metadata": {},
     "output_type": "execute_result"
    }
   ],
   "source": [
    "audible_data2.dtypes"
   ]
  },
  {
   "cell_type": "markdown",
   "id": "7fea14b7",
   "metadata": {},
   "source": [
    "### Final adjustments"
   ]
  },
  {
   "cell_type": "code",
   "execution_count": 52,
   "id": "eb4e1882",
   "metadata": {},
   "outputs": [],
   "source": [
    "#renaming columns author0 to author1, author1 to author2 etc.\n",
    "\n",
    "audible_data2.rename(columns = {'author0':'author_1', 'author1':'author_2', 'author2':'author_3', 'author3':'author_4',\n",
    "                               'releasedate': 'release_date'}, inplace = True)"
   ]
  },
  {
   "cell_type": "code",
   "execution_count": 53,
   "id": "54e4e688",
   "metadata": {},
   "outputs": [],
   "source": [
    "#final dataframe with relevant columns\n",
    "\n",
    "cleaned_df = audible_data2.loc[:,['name', 'author_1', 'author_2', 'author_3', 'author_4', 'narrator', 'release_date',\n",
    "                                 'hour_component', 'min_component', 'language', 'stars_out_of_5', 'total_ratings', 'price']]"
   ]
  },
  {
   "cell_type": "code",
   "execution_count": 54,
   "id": "14d04442",
   "metadata": {},
   "outputs": [
    {
     "data": {
      "text/html": [
       "<div>\n",
       "<style scoped>\n",
       "    .dataframe tbody tr th:only-of-type {\n",
       "        vertical-align: middle;\n",
       "    }\n",
       "\n",
       "    .dataframe tbody tr th {\n",
       "        vertical-align: top;\n",
       "    }\n",
       "\n",
       "    .dataframe thead th {\n",
       "        text-align: right;\n",
       "    }\n",
       "</style>\n",
       "<table border=\"1\" class=\"dataframe\">\n",
       "  <thead>\n",
       "    <tr style=\"text-align: right;\">\n",
       "      <th></th>\n",
       "      <th>name</th>\n",
       "      <th>author_1</th>\n",
       "      <th>author_2</th>\n",
       "      <th>author_3</th>\n",
       "      <th>author_4</th>\n",
       "      <th>narrator</th>\n",
       "      <th>release_date</th>\n",
       "      <th>hour_component</th>\n",
       "      <th>min_component</th>\n",
       "      <th>language</th>\n",
       "      <th>stars_out_of_5</th>\n",
       "      <th>total_ratings</th>\n",
       "      <th>price</th>\n",
       "    </tr>\n",
       "  </thead>\n",
       "  <tbody>\n",
       "    <tr>\n",
       "      <th>0</th>\n",
       "      <td>Geronimo Stilton #11 &amp; #12</td>\n",
       "      <td>Geronimo Stilton</td>\n",
       "      <td>None</td>\n",
       "      <td>None</td>\n",
       "      <td>None</td>\n",
       "      <td>Bill Lobely</td>\n",
       "      <td>2008-08-04</td>\n",
       "      <td>2</td>\n",
       "      <td>20</td>\n",
       "      <td>English</td>\n",
       "      <td>5.0</td>\n",
       "      <td>34.0</td>\n",
       "      <td>468.0</td>\n",
       "    </tr>\n",
       "    <tr>\n",
       "      <th>1</th>\n",
       "      <td>The Burning Maze</td>\n",
       "      <td>Rick Riordan</td>\n",
       "      <td>None</td>\n",
       "      <td>None</td>\n",
       "      <td>None</td>\n",
       "      <td>Robbie Daymond</td>\n",
       "      <td>2018-05-01</td>\n",
       "      <td>13</td>\n",
       "      <td>8</td>\n",
       "      <td>English</td>\n",
       "      <td>4.5</td>\n",
       "      <td>41.0</td>\n",
       "      <td>820.0</td>\n",
       "    </tr>\n",
       "    <tr>\n",
       "      <th>2</th>\n",
       "      <td>The Deep End</td>\n",
       "      <td>Jeff Kinney</td>\n",
       "      <td>None</td>\n",
       "      <td>None</td>\n",
       "      <td>None</td>\n",
       "      <td>Dan Russell</td>\n",
       "      <td>2020-11-06</td>\n",
       "      <td>2</td>\n",
       "      <td>3</td>\n",
       "      <td>English</td>\n",
       "      <td>4.5</td>\n",
       "      <td>38.0</td>\n",
       "      <td>410.0</td>\n",
       "    </tr>\n",
       "  </tbody>\n",
       "</table>\n",
       "</div>"
      ],
      "text/plain": [
       "                         name          author_1 author_2 author_3 author_4   \n",
       "0  Geronimo Stilton #11 & #12  Geronimo Stilton     None     None     None  \\\n",
       "1            The Burning Maze      Rick Riordan     None     None     None   \n",
       "2                The Deep End       Jeff Kinney     None     None     None   \n",
       "\n",
       "         narrator release_date  hour_component  min_component language   \n",
       "0     Bill Lobely   2008-08-04               2             20  English  \\\n",
       "1  Robbie Daymond   2018-05-01              13              8  English   \n",
       "2     Dan Russell   2020-11-06               2              3  English   \n",
       "\n",
       "   stars_out_of_5  total_ratings  price  \n",
       "0             5.0           34.0  468.0  \n",
       "1             4.5           41.0  820.0  \n",
       "2             4.5           38.0  410.0  "
      ]
     },
     "execution_count": 54,
     "metadata": {},
     "output_type": "execute_result"
    }
   ],
   "source": [
    "cleaned_df.head(3)"
   ]
  },
  {
   "cell_type": "code",
   "execution_count": 56,
   "id": "4c17bcb4",
   "metadata": {},
   "outputs": [
    {
     "data": {
      "image/png": "[encoded data removed]",
      "text/plain": [
       "<Figure size 800x600 with 1 Axes>"
      ]
     },
     "metadata": {},
     "output_type": "display_data"
    },
    {
     "data": {
      "image/png": "[encoded data removed]",
      "text/plain": [
       "<Figure size 800x600 with 1 Axes>"
      ]
     },
     "metadata": {},
     "output_type": "display_data"
    },
    {
     "data": {
      "image/png": "[encoded data removed]",
      "text/plain": [
       "<Figure size 800x600 with 1 Axes>"
      ]
     },
     "metadata": {},
     "output_type": "display_data"
    },
    {
     "data": {
      "image/png": "[encoded data removed]",
      "text/plain": [
       "<Figure size 800x600 with 1 Axes>"
      ]
     },
     "metadata": {},
     "output_type": "display_data"
    },
    {
     "data": {
      "image/png": "[encoded data removed]",
      "text/plain": [
       "<Figure size 800x600 with 1 Axes>"
      ]
     },
     "metadata": {},
     "output_type": "display_data"
    },
    {
     "data": {
      "image/png": "[encoded data removed]",
      "text/plain": [
       "<Figure size 800x600 with 1 Axes>"
      ]
     },
     "metadata": {},
     "output_type": "display_data"
    }
   ],
   "source": [
    "# Visualization - Distribution Plots\n",
    "\n",
    "numerical_columns = cleaned_df.select_dtypes(include=['float64', 'int64']).columns\n",
    "for column in numerical_columns:\n",
    "    plt.figure(figsize=(8, 6))\n",
    "    plt.hist(cleaned_df[column], bins=20, edgecolor='black', alpha=0.7)\n",
    "    plt.title(f'Distribution of {column}')\n",
    "    plt.xlabel(column)\n",
    "    plt.ylabel('Frequency')\n",
    "    plt.show()\n",
    "\n",
    "# Visualization - Box Plots\n",
    "for column in numerical_columns:\n",
    "    plt.figure(figsize=(8, 6))\n",
    "    plt.boxplot(cleaned_df[column], vert=False)\n",
    "    plt.title(f'Box Plot of {column}')\n",
    "    plt.xlabel(column)\n",
    "    plt.show()"
   ]
  }
 ],
 "metadata": {
  "kernelspec": {
   "display_name": "Python 3 (ipykernel)",
   "language": "python",
   "name": "python3"
  },
  "language_info": {
   "codemirror_mode": {
    "name": "ipython",
    "version": 3
   },
   "file_extension": ".py",
   "mimetype": "text/x-python",
   "name": "python",
   "nbconvert_exporter": "python",
   "pygments_lexer": "ipython3",
   "version": "3.10.10"
  }
 },
 "nbformat": 4,
 "nbformat_minor": 5
}
